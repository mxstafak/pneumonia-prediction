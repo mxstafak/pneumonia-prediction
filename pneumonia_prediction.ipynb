{
 "cells": [
  {
   "cell_type": "code",
   "execution_count": 16,
   "metadata": {
    "id": "Rqpy3s119QBC"
   },
   "outputs": [],
   "source": [
    "import tensorflow as tf\n",
    "from tensorflow import keras\n",
    "from keras.layers.core import Activation, Dropout, Flatten, Dense\n",
    "from keras.layers import Convolution2D as Conv2D\n",
    "from keras.layers import MaxPooling2D\n",
    "from keras.preprocessing.image import ImageDataGenerator, load_img\n",
    "import warnings\n",
    "\n",
    "from random import randint\n",
    "from PIL import Image\n",
    "\n",
    "import matplotlib.pyplot as plt\n",
    "%matplotlib inline\n"
   ]
  },
  {
   "cell_type": "code",
   "execution_count": 17,
   "metadata": {},
   "outputs": [],
   "source": [
    "warnings.filterwarnings('ignore')"
   ]
  },
  {
   "cell_type": "code",
   "execution_count": 18,
   "metadata": {
    "id": "D5lDYPZzHPar"
   },
   "outputs": [],
   "source": [
    "input_shape=(64,64,3)"
   ]
  },
  {
   "cell_type": "code",
   "execution_count": 19,
   "metadata": {
    "colab": {
     "base_uri": "https://localhost:8080/"
    },
    "id": "40aRTMtHCFOF",
    "outputId": "829e43a2-5dbc-4938-8290-b6aadc6328b2"
   },
   "outputs": [],
   "source": [
    "\n",
    "model = tf.keras.Sequential()\n",
    "model.add(Conv2D(32, (3, 3), activation='relu', input_shape=input_shape, padding='same'))\n",
    "model.add(MaxPooling2D(pool_size=(2, 2)))\n",
    "model.add(Conv2D(32, (3, 3),  activation='relu', padding='same'))\n",
    "model.add(MaxPooling2D(pool_size=(2, 2)))\n",
    "\n",
    "model.add(Conv2D(64, (3, 3), activation='relu', padding=\"same\"))\n",
    "model.add(MaxPooling2D(pool_size=(2, 2)))\n",
    "\n",
    "model.add(Conv2D(64, (3, 3), activation='relu', padding=\"same\"))\n",
    "model.add(MaxPooling2D(pool_size=(2, 2)))\n",
    "\n",
    "model.add(Flatten())\n",
    "model.add(Dense(64, activation=\"relu\"))\n",
    "model.add(Dropout(0.5))\n",
    "model.add(Dense(1))\n",
    "model.add(Activation('sigmoid'))\n",
    "\n"
   ]
  },
  {
   "cell_type": "code",
   "execution_count": 21,
   "metadata": {
    "id": "jkTacb-NDNXB"
   },
   "outputs": [],
   "source": [
    "model.compile(loss='binary_crossentropy',\n",
    "              optimizer='rmsprop',\n",
    "              metrics=['accuracy'])"
   ]
  },
  {
   "cell_type": "code",
   "execution_count": 22,
   "metadata": {
    "id": "6OtGM3QGV3PK"
   },
   "outputs": [
    {
     "name": "stdout",
     "output_type": "stream",
     "text": [
      "Found 5216 images belonging to 2 classes.\n",
      "Found 624 images belonging to 2 classes.\n",
      "Epoch 1/30\n",
      "82/82 [==============================] - ETA: 0s - loss: 0.5353 - accuracy: 0.7596WARNING:tensorflow:Your input ran out of data; interrupting training. Make sure that your dataset or generator can generate at least `steps_per_epoch * epochs` batches (in this case, 82 batches). You may need to use the repeat() function when building your dataset.\n"
     ]
    },
    {
     "name": "stderr",
     "output_type": "stream",
     "text": [
      "WARNING:tensorflow:Your input ran out of data; interrupting training. Make sure that your dataset or generator can generate at least `steps_per_epoch * epochs` batches (in this case, 82 batches). You may need to use the repeat() function when building your dataset.\n"
     ]
    },
    {
     "name": "stdout",
     "output_type": "stream",
     "text": [
      "82/82 [==============================] - 99s 1s/step - loss: 0.5353 - accuracy: 0.7596 - val_loss: 1.3061 - val_accuracy: 0.6250\n",
      "Epoch 2/30\n",
      "82/82 [==============================] - 86s 1s/step - loss: 0.3227 - accuracy: 0.8623\n",
      "Epoch 3/30\n",
      "82/82 [==============================] - 91s 1s/step - loss: 0.2488 - accuracy: 0.8990\n",
      "Epoch 4/30\n",
      "82/82 [==============================] - 92s 1s/step - loss: 0.2276 - accuracy: 0.9072\n",
      "Epoch 5/30\n",
      "82/82 [==============================] - 98s 1s/step - loss: 0.2007 - accuracy: 0.9224\n",
      "Epoch 6/30\n",
      "82/82 [==============================] - 88s 1s/step - loss: 0.1949 - accuracy: 0.9271\n",
      "Epoch 7/30\n",
      "82/82 [==============================] - 91s 1s/step - loss: 0.1775 - accuracy: 0.9340\n",
      "Epoch 8/30\n",
      "82/82 [==============================] - 90s 1s/step - loss: 0.1639 - accuracy: 0.9365\n",
      "Epoch 9/30\n",
      "82/82 [==============================] - 92s 1s/step - loss: 0.1532 - accuracy: 0.9404\n",
      "Epoch 10/30\n",
      "82/82 [==============================] - 89s 1s/step - loss: 0.1555 - accuracy: 0.9423\n",
      "Epoch 11/30\n",
      "82/82 [==============================] - 98s 1s/step - loss: 0.1492 - accuracy: 0.9450\n",
      "Epoch 12/30\n",
      "82/82 [==============================] - 88s 1s/step - loss: 0.1437 - accuracy: 0.9457\n",
      "Epoch 13/30\n",
      "82/82 [==============================] - 89s 1s/step - loss: 0.1332 - accuracy: 0.9511\n",
      "Epoch 14/30\n",
      "82/82 [==============================] - 85s 1s/step - loss: 0.1336 - accuracy: 0.9536\n",
      "Epoch 15/30\n",
      "82/82 [==============================] - 85s 1s/step - loss: 0.1292 - accuracy: 0.9523\n",
      "Epoch 16/30\n",
      "82/82 [==============================] - 90s 1s/step - loss: 0.1303 - accuracy: 0.9544\n",
      "Epoch 17/30\n",
      "82/82 [==============================] - 87s 1s/step - loss: 0.1279 - accuracy: 0.9530\n",
      "Epoch 18/30\n",
      "82/82 [==============================] - 97s 1s/step - loss: 0.1181 - accuracy: 0.9569\n",
      "Epoch 19/30\n",
      "82/82 [==============================] - 90s 1s/step - loss: 0.1244 - accuracy: 0.9549\n",
      "Epoch 20/30\n",
      "82/82 [==============================] - 89s 1s/step - loss: 0.1165 - accuracy: 0.9574\n",
      "Epoch 21/30\n",
      "82/82 [==============================] - 96s 1s/step - loss: 0.1162 - accuracy: 0.9584\n",
      "Epoch 22/30\n",
      "82/82 [==============================] - 100s 1s/step - loss: 0.1140 - accuracy: 0.9605\n",
      "Epoch 23/30\n",
      "82/82 [==============================] - 94s 1s/step - loss: 0.1064 - accuracy: 0.9624\n",
      "Epoch 24/30\n",
      "82/82 [==============================] - 95s 1s/step - loss: 0.1098 - accuracy: 0.9615\n",
      "Epoch 25/30\n",
      "82/82 [==============================] - 95s 1s/step - loss: 0.1105 - accuracy: 0.9626\n",
      "Epoch 26/30\n",
      "82/82 [==============================] - 93s 1s/step - loss: 0.1026 - accuracy: 0.9638\n",
      "Epoch 27/30\n",
      "82/82 [==============================] - 91s 1s/step - loss: 0.1005 - accuracy: 0.9643\n",
      "Epoch 28/30\n",
      "82/82 [==============================] - 90s 1s/step - loss: 0.1030 - accuracy: 0.9643\n",
      "Epoch 29/30\n",
      "82/82 [==============================] - 85s 1s/step - loss: 0.1030 - accuracy: 0.9613\n",
      "Epoch 30/30\n",
      "82/82 [==============================] - 89s 1s/step - loss: 0.0968 - accuracy: 0.9657\n"
     ]
    },
    {
     "data": {
      "text/plain": [
       "<tensorflow.python.keras.callbacks.History at 0x297bdf1c0d0>"
      ]
     },
     "execution_count": 22,
     "metadata": {},
     "output_type": "execute_result"
    }
   ],
   "source": [
    "train_datagen = ImageDataGenerator(\n",
    "        rescale=1./255,\n",
    "        shear_range=0.2,\n",
    "        zoom_range=0.2,\n",
    "        horizontal_flip=True)\n",
    "test_datagen = ImageDataGenerator(rescale=1./255)\n",
    "train_generator = train_datagen.flow_from_directory(\n",
    "        './chest_xray/train',\n",
    "        target_size=(64, 64),\n",
    "        batch_size=64,\n",
    "        class_mode='binary')\n",
    "\n",
    "validation_generator = test_datagen.flow_from_directory(\n",
    "        './chest_xray/test',\n",
    "        target_size=(64, 64),\n",
    "        batch_size=64,\n",
    "        class_mode='binary')\n",
    "model.fit(\n",
    "        train_generator,\n",
    "        steps_per_epoch=82,\n",
    "        epochs=30,\n",
    "        validation_data=validation_generator,\n",
    "        validation_steps=82)"
   ]
  },
  {
   "cell_type": "code",
   "execution_count": 23,
   "metadata": {},
   "outputs": [
    {
     "name": "stdout",
     "output_type": "stream",
     "text": [
      "Model: \"sequential_1\"\n",
      "_________________________________________________________________\n",
      "Layer (type)                 Output Shape              Param #   \n",
      "=================================================================\n",
      "module_wrapper_13 (ModuleWra (None, None, None, 32)    896       \n",
      "_________________________________________________________________\n",
      "module_wrapper_14 (ModuleWra (None, None, None, 32)    0         \n",
      "_________________________________________________________________\n",
      "module_wrapper_15 (ModuleWra (None, None, None, 32)    9248      \n",
      "_________________________________________________________________\n",
      "module_wrapper_16 (ModuleWra (None, None, None, 32)    0         \n",
      "_________________________________________________________________\n",
      "module_wrapper_17 (ModuleWra (None, None, None, 64)    18496     \n",
      "_________________________________________________________________\n",
      "module_wrapper_18 (ModuleWra (None, None, None, 64)    0         \n",
      "_________________________________________________________________\n",
      "module_wrapper_19 (ModuleWra (None, None, None, 64)    36928     \n",
      "_________________________________________________________________\n",
      "module_wrapper_20 (ModuleWra (None, None, None, 64)    0         \n",
      "_________________________________________________________________\n",
      "module_wrapper_21 (ModuleWra (None, None)              0         \n",
      "_________________________________________________________________\n",
      "module_wrapper_22 (ModuleWra (None, 64)                65600     \n",
      "_________________________________________________________________\n",
      "module_wrapper_23 (ModuleWra (None, 64)                0         \n",
      "_________________________________________________________________\n",
      "module_wrapper_24 (ModuleWra (None, 1)                 65        \n",
      "_________________________________________________________________\n",
      "module_wrapper_25 (ModuleWra (None, 1)                 0         \n",
      "=================================================================\n",
      "Total params: 131,233\n",
      "Trainable params: 131,233\n",
      "Non-trainable params: 0\n",
      "_________________________________________________________________\n"
     ]
    }
   ],
   "source": [
    "model.summary()"
   ]
  },
  {
   "cell_type": "code",
   "execution_count": 24,
   "metadata": {},
   "outputs": [
    {
     "name": "stdout",
     "output_type": "stream",
     "text": [
      "10/10 [==============================] - 7s 651ms/step - loss: 0.2921 - accuracy: 0.9215\n",
      "Loss of the model: 0.29\n",
      "Test Accuracy: 92.15%\n"
     ]
    }
   ],
   "source": [
    "scores = model.evaluate(validation_generator)\n",
    "\n",
    "print(\"Loss of the model: %.2f\"%(scores[0]))\n",
    "print(\"Test Accuracy: %.2f%%\"%(scores[1] * 100))"
   ]
  },
  {
   "cell_type": "code",
   "execution_count": 25,
   "metadata": {},
   "outputs": [
    {
     "name": "stderr",
     "output_type": "stream",
     "text": [
      "WARNING:absl:Found untraced functions such as conv2d_4_layer_call_fn, conv2d_4_layer_call_and_return_conditional_losses, conv2d_5_layer_call_fn, conv2d_5_layer_call_and_return_conditional_losses, conv2d_6_layer_call_fn while saving (showing 5 of 45). These functions will not be directly callable after loading.\n"
     ]
    },
    {
     "name": "stdout",
     "output_type": "stream",
     "text": [
      "INFO:tensorflow:Assets written to: custom_model.h5py\\assets\n"
     ]
    },
    {
     "name": "stderr",
     "output_type": "stream",
     "text": [
      "INFO:tensorflow:Assets written to: custom_model.h5py\\assets\n"
     ]
    }
   ],
   "source": [
    "# Saving the model for future use\n",
    "model.save('custom_model.h5py')"
   ]
  },
  {
   "cell_type": "code",
   "execution_count": 26,
   "metadata": {},
   "outputs": [
    {
     "name": "stdout",
     "output_type": "stream",
     "text": [
      "[[0.9097419]]\n",
      "This image is 90.97 percent PNEUMONIA\n"
     ]
    },
    {
     "data": {
      "image/png": "[encoded data removed]",
      "text/plain": [
       "<Figure size 432x288 with 1 Axes>"
      ]
     },
     "metadata": {
      "needs_background": "light"
     },
     "output_type": "display_data"
    }
   ],
   "source": [
    "def predict_image(filename):\n",
    "    img = load_img(filename, target_size=(64, 64))\n",
    "    image = keras.preprocessing.image.img_to_array(img)\n",
    "    image = image / 255.0\n",
    "    image = image.reshape(1,64,64,3)\n",
    "    model = tf.keras.models.load_model('custom_model.h5py')\n",
    "    prediction = model.predict(image)\n",
    "    print(prediction)\n",
    "    plt.imshow(img)\n",
    "    if(prediction[0] > 0.5):\n",
    "        stat = prediction[0] * 100 \n",
    "        print(\"This image is %.2f percent %s\"% (stat, \"PNEUMONIA\"))\n",
    "    else:\n",
    "        stat = (1.0 - prediction[0]) * 100\n",
    "        print(\"This image is %.2f percent %s\" % (stat, \"NORMAL\"))\n",
    "\n",
    "   \n",
    "predict_image(\"./chest_xray/val/PNEUMONIA/person1946_bacteria_4875.jpeg\")\n"
   ]
  },
  {
   "cell_type": "code",
   "execution_count": null,
   "metadata": {},
   "outputs": [],
   "source": []
  }
 ],
 "metadata": {
  "colab": {
   "name": "Untitled0.ipynb",
   "provenance": []
  },
  "kernelspec": {
   "display_name": "Python 3",
   "language": "python",
   "name": "python3"
  },
  "language_info": {
   "codemirror_mode": {
    "name": "ipython",
    "version": 3
   },
   "file_extension": ".py",
   "mimetype": "text/x-python",
   "name": "python",
   "nbconvert_exporter": "python",
   "pygments_lexer": "ipython3",
   "version": "3.8.3"
  }
 },
 "nbformat": 4,
 "nbformat_minor": 1
}
